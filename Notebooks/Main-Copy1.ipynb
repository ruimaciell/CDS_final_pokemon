{
 "cells": [
  {
   "cell_type": "code",
   "execution_count": 1,
   "id": "de0ad485-de03-46cc-9f87-13f15ae63c9c",
   "metadata": {},
   "outputs": [],
   "source": [
    "import sys\n",
    "sys.path.append(\"/Users/mikelgallo/repos/CDS_final_pokemon\") # main path to repo"
   ]
  },
  {
   "cell_type": "code",
   "execution_count": 2,
   "id": "64da18dd-f7d0-4bb1-b4fc-fd30795f9c39",
   "metadata": {},
   "outputs": [],
   "source": [
    "import os\n",
    "import pandas as pd\n",
    "from sklearn.metrics import roc_auc_score\n",
    "#library\n",
    "import library_final\n",
    "from library_final.pokedex import DataLoader as ld\n",
    "#from library_final.pokedex import Preprocessor as pp\n",
    "#from library_final.pokedex import prepro_class as pr\n",
    "#from library_final.pokedex import feature_class as ft\n",
    "#from library_final.pokedex import model_class as mc\n",
    "\n",
    "### Libraries for Database SQL\n",
    "import pandas.io.sql as sqlio\n",
    "import psycopg2\n",
    "import json\n",
    "from sqlalchemy import create_engine"
   ]
  },
  {
   "cell_type": "markdown",
   "id": "5516921e-46b4-4ac6-841f-e87350d466a5",
   "metadata": {},
   "source": [
    "#### Loading Datasets"
   ]
  },
  {
   "cell_type": "markdown",
   "id": "e955f7ae-dd19-454b-aeba-3686489bae01",
   "metadata": {},
   "source": [
    "Loader Steps:\n",
    "1. Load project datasets\n",
    "  * Pokemon\n",
    "  * Combats\n",
    "  * Pokemon_id_each_team\n",
    "  * Team_combat\n",
    "2. Create new columns\n",
    "  * Victory_Rate\n",
    "  * Total_Battles\n",
    "  * Victory_Counts"
   ]
  },
  {
   "cell_type": "code",
   "execution_count": 3,
   "id": "0f706d11-73f2-4c9b-b53f-95b4a5daf0f4",
   "metadata": {},
   "outputs": [],
   "source": [
    "## Load from Database\n",
    "loader = ld.loader_database()\n",
    "combats, pokemon, pokemon_id_each_team, team_combat, ProcessedData = loader.load_datasets()\n",
    "## Load from repository\n",
    "#loader = ld.loader_jupyter()\n",
    "#combats, pokemon, pokemon_id_each_team, team_combat, Processed = loader.load_datasets()"
   ]
  },
  {
   "cell_type": "code",
   "execution_count": 4,
   "id": "0f28dcbc-795d-4085-9749-eba78ff79663",
   "metadata": {},
   "outputs": [],
   "source": [
    "## Creating new columns\n",
    "combat_cols = ld.PokemonBattleProcessor(pokemon,combats)\n",
    "combat_cols.process_battle_data()\n",
    "pokemon_dt = combat_cols.get_processed_data()"
   ]
  },
  {
   "cell_type": "code",
   "execution_count": 6,
   "id": "e5dd220c-2d51-46a8-9bd1-27723210ded7",
   "metadata": {},
   "outputs": [
    {
     "data": {
      "text/html": [
       "<div>\n",
       "<style scoped>\n",
       "    .dataframe tbody tr th:only-of-type {\n",
       "        vertical-align: middle;\n",
       "    }\n",
       "\n",
       "    .dataframe tbody tr th {\n",
       "        vertical-align: top;\n",
       "    }\n",
       "\n",
       "    .dataframe thead th {\n",
       "        text-align: right;\n",
       "    }\n",
       "</style>\n",
       "<table border=\"1\" class=\"dataframe\">\n",
       "  <thead>\n",
       "    <tr style=\"text-align: right;\">\n",
       "      <th></th>\n",
       "      <th>#</th>\n",
       "      <th>Name</th>\n",
       "      <th>Type 1</th>\n",
       "      <th>Type 2</th>\n",
       "      <th>HP</th>\n",
       "      <th>Attack</th>\n",
       "      <th>Defense</th>\n",
       "      <th>Sp. Atk</th>\n",
       "      <th>Sp. Def</th>\n",
       "      <th>Speed</th>\n",
       "      <th>Generation</th>\n",
       "      <th>Legendary</th>\n",
       "      <th>Victory_Rate</th>\n",
       "      <th>Total_Battles</th>\n",
       "      <th>Victory_Counts</th>\n",
       "    </tr>\n",
       "  </thead>\n",
       "  <tbody>\n",
       "    <tr>\n",
       "      <th>0</th>\n",
       "      <td>1.0</td>\n",
       "      <td>Bulbasaur</td>\n",
       "      <td>Grass</td>\n",
       "      <td>Poison</td>\n",
       "      <td>45.0</td>\n",
       "      <td>49.0</td>\n",
       "      <td>49.0</td>\n",
       "      <td>65.0</td>\n",
       "      <td>65.0</td>\n",
       "      <td>45.0</td>\n",
       "      <td>1.0</td>\n",
       "      <td>False</td>\n",
       "      <td>0.278195</td>\n",
       "      <td>133.0</td>\n",
       "      <td>37.0</td>\n",
       "    </tr>\n",
       "    <tr>\n",
       "      <th>1</th>\n",
       "      <td>2.0</td>\n",
       "      <td>Ivysaur</td>\n",
       "      <td>Grass</td>\n",
       "      <td>Poison</td>\n",
       "      <td>60.0</td>\n",
       "      <td>62.0</td>\n",
       "      <td>63.0</td>\n",
       "      <td>80.0</td>\n",
       "      <td>80.0</td>\n",
       "      <td>60.0</td>\n",
       "      <td>1.0</td>\n",
       "      <td>False</td>\n",
       "      <td>0.380165</td>\n",
       "      <td>121.0</td>\n",
       "      <td>46.0</td>\n",
       "    </tr>\n",
       "    <tr>\n",
       "      <th>2</th>\n",
       "      <td>3.0</td>\n",
       "      <td>Venusaur</td>\n",
       "      <td>Grass</td>\n",
       "      <td>Poison</td>\n",
       "      <td>80.0</td>\n",
       "      <td>82.0</td>\n",
       "      <td>83.0</td>\n",
       "      <td>100.0</td>\n",
       "      <td>100.0</td>\n",
       "      <td>80.0</td>\n",
       "      <td>1.0</td>\n",
       "      <td>False</td>\n",
       "      <td>0.674242</td>\n",
       "      <td>132.0</td>\n",
       "      <td>89.0</td>\n",
       "    </tr>\n",
       "    <tr>\n",
       "      <th>3</th>\n",
       "      <td>4.0</td>\n",
       "      <td>Mega Venusaur</td>\n",
       "      <td>Grass</td>\n",
       "      <td>Poison</td>\n",
       "      <td>80.0</td>\n",
       "      <td>100.0</td>\n",
       "      <td>123.0</td>\n",
       "      <td>122.0</td>\n",
       "      <td>120.0</td>\n",
       "      <td>80.0</td>\n",
       "      <td>1.0</td>\n",
       "      <td>False</td>\n",
       "      <td>0.560000</td>\n",
       "      <td>125.0</td>\n",
       "      <td>70.0</td>\n",
       "    </tr>\n",
       "  </tbody>\n",
       "</table>\n",
       "</div>"
      ],
      "text/plain": [
       "     #           Name Type 1  Type 2    HP  Attack  Defense  Sp. Atk  Sp. Def  \\\n",
       "0  1.0      Bulbasaur  Grass  Poison  45.0    49.0     49.0     65.0     65.0   \n",
       "1  2.0        Ivysaur  Grass  Poison  60.0    62.0     63.0     80.0     80.0   \n",
       "2  3.0       Venusaur  Grass  Poison  80.0    82.0     83.0    100.0    100.0   \n",
       "3  4.0  Mega Venusaur  Grass  Poison  80.0   100.0    123.0    122.0    120.0   \n",
       "\n",
       "   Speed  Generation  Legendary  Victory_Rate  Total_Battles  Victory_Counts  \n",
       "0   45.0         1.0      False      0.278195          133.0            37.0  \n",
       "1   60.0         1.0      False      0.380165          121.0            46.0  \n",
       "2   80.0         1.0      False      0.674242          132.0            89.0  \n",
       "3   80.0         1.0      False      0.560000          125.0            70.0  "
      ]
     },
     "execution_count": 6,
     "metadata": {},
     "output_type": "execute_result"
    }
   ],
   "source": [
    "pokemon_dt.head(4)"
   ]
  },
  {
   "cell_type": "markdown",
   "id": "589c8a22-b1f0-4493-af81-8ece991dc005",
   "metadata": {},
   "source": [
    "#### Preprocessing & Feature Transformation"
   ]
  },
  {
   "cell_type": "code",
   "execution_count": null,
   "id": "cb2eac17-b761-482f-aecf-263e418b43dc",
   "metadata": {},
   "outputs": [],
   "source": []
  },
  {
   "cell_type": "code",
   "execution_count": null,
   "id": "eebb24b5-bfe3-486a-8f86-67096c63edff",
   "metadata": {},
   "outputs": [],
   "source": []
  },
  {
   "cell_type": "code",
   "execution_count": null,
   "id": "cda50d1f-548b-438e-b1c7-2f2034fa10be",
   "metadata": {},
   "outputs": [],
   "source": []
  },
  {
   "cell_type": "code",
   "execution_count": 4,
   "id": "1238afcd-beb7-48c1-aefb-f562b63247dd",
   "metadata": {},
   "outputs": [],
   "source": [
    "# Create missing remover objects for train and test\n",
    "missing_remover = pr.DropMissingValuesGenderEthnicity(train)\n",
    "missing_remover_t = pr.DropMissingValuesGenderEthnicity(test)"
   ]
  },
  {
   "cell_type": "code",
   "execution_count": 5,
   "id": "b844ecef-df9a-48d4-b443-9b3d73b760a8",
   "metadata": {},
   "outputs": [],
   "source": [
    "# Remove missing rows from columns Age, gender, Ethnicity\n",
    "train_clean = missing_remover.process()\n",
    "test_clean = missing_remover_t.process()"
   ]
  },
  {
   "cell_type": "code",
   "execution_count": 6,
   "id": "99fadeb9-510f-4447-8964-20b4dd5651ac",
   "metadata": {},
   "outputs": [],
   "source": [
    "# Create Imputation of missing values object for train and test\n",
    "missing_imputator = pr.FillMissingValuesWithMeanHeightWeight(train_clean)\n",
    "missing_imputator_t = pr.FillMissingValuesWithMeanHeightWeight(test_clean)"
   ]
  },
  {
   "cell_type": "code",
   "execution_count": 7,
   "id": "a162a414-eb25-4ef7-9c12-86f171d69424",
   "metadata": {},
   "outputs": [],
   "source": [
    "# Impute missing values for height and weight\n",
    "train_imp = missing_imputator.process()\n",
    "test_imp = missing_imputator_t.process()"
   ]
  },
  {
   "cell_type": "markdown",
   "id": "d14f9230-92b4-4b01-9f6a-b02580c01396",
   "metadata": {},
   "source": [
    "#### Feature transformation"
   ]
  },
  {
   "cell_type": "code",
   "execution_count": 8,
   "id": "562d15af-eebb-4267-9ccb-9772ccec3170",
   "metadata": {},
   "outputs": [],
   "source": [
    "# One hot enco object\n",
    "feature_trans = ft.One_hot_enc(train_imp)\n",
    "feature_trans_t = ft.One_hot_enc(test_imp)"
   ]
  },
  {
   "cell_type": "code",
   "execution_count": 9,
   "id": "c4654442-8c8e-47f4-8316-138146b353d3",
   "metadata": {},
   "outputs": [
    {
     "name": "stdout",
     "output_type": "stream",
     "text": [
      "object\n",
      "object\n"
     ]
    }
   ],
   "source": [
    "# Create new dummy columns based on icu_admit_source\n",
    "train_new_f = feature_trans.one_hot_enc('icu_admit_source')\n",
    "test_new_f = feature_trans_t.one_hot_enc('icu_admit_source')"
   ]
  },
  {
   "cell_type": "code",
   "execution_count": 10,
   "id": "a18aaf18-ed82-45c4-8bc7-5392c45bd613",
   "metadata": {},
   "outputs": [],
   "source": [
    "# Create object for replacing boolean to 1-0\n",
    "boolean_trans = ft.replace_booleans(train_new_f)\n",
    "boolean_trans_t = ft.replace_booleans(test_new_f)"
   ]
  },
  {
   "cell_type": "code",
   "execution_count": 11,
   "id": "6cb4e795-8abc-489c-888c-c2e6fb9d6b8f",
   "metadata": {},
   "outputs": [],
   "source": [
    "# Transform gender variable to binary\n",
    "final_train = boolean_trans.input_mean_weight('gender')\n",
    "final_test = boolean_trans_t.input_mean_weight('gender')"
   ]
  },
  {
   "cell_type": "markdown",
   "id": "14a258ec-eee8-4297-8812-38bed0304f98",
   "metadata": {},
   "source": [
    "#### Model train and prediction"
   ]
  },
  {
   "cell_type": "code",
   "execution_count": 12,
   "id": "2dd4fad8-cb04-40c0-86bd-15096cca9695",
   "metadata": {},
   "outputs": [],
   "source": [
    "# Feature columns\n",
    "X = [\"age\", \"height\", \"weight\", \"aids\", \"cirrhosis\", \"hepatic_failure\", \n",
    "     \"immunosuppression\", \"leukemia\", \"lymphoma\", \"solid_tumor_with_metastasis\",\"gender\",\n",
    "     'icu_admit_source_Accident & Emergency', 'icu_admit_source_Floor', 'icu_admit_source_Operating Room / Recovery', 'icu_admit_source_Other Hospital', 'icu_admit_source_Other ICU']\n",
    "# Target column\n",
    "Y = \"diabetes_mellitus\""
   ]
  },
  {
   "cell_type": "code",
   "execution_count": 13,
   "id": "dd755e3b-0ade-4dc1-8ad4-661d0bb21bf2",
   "metadata": {},
   "outputs": [],
   "source": [
    "# Create logistic model class\n",
    "logistic_model = mc.CustomModel(final_train,X,Y,'Logistic')"
   ]
  },
  {
   "cell_type": "code",
   "execution_count": 14,
   "id": "bf75ab32-5031-4f92-a552-321f0371b01b",
   "metadata": {},
   "outputs": [],
   "source": [
    "#Train model\n",
    "logistic_model.train()"
   ]
  },
  {
   "cell_type": "code",
   "execution_count": 16,
   "id": "df09d067-8a85-43dd-8904-9c6e40c78bf8",
   "metadata": {},
   "outputs": [],
   "source": [
    "# Predict test values\n",
    "probabilities, predictions = logistic_model.prediction(final_test[X])"
   ]
  },
  {
   "cell_type": "code",
   "execution_count": 37,
   "id": "a7eb17c6-76ed-4143-bdab-51422d9e7ae2",
   "metadata": {},
   "outputs": [],
   "source": [
    "# Add a new column \"predictions\" to final_test dataset\n",
    "final_test['probabilities'] = probabilities.tolist() # Assuming you're interested in the probabilities of the positive class\n",
    "final_test['predictions'] = predictions.tolist()  # Final prediction [0,1]"
   ]
  },
  {
   "cell_type": "code",
   "execution_count": 42,
   "id": "a44327bc-62b6-4d00-990b-e7c6b3de4836",
   "metadata": {},
   "outputs": [
    {
     "name": "stdout",
     "output_type": "stream",
     "text": [
      "ROC AUC Score: 0.5186346482571823\n"
     ]
    }
   ],
   "source": [
    "# Compute the ROC AUC score (substitute )\n",
    "roc_auc = roc_auc_score(final_test['diabetes_mellitus'], final_test['predictions'])\n",
    "print(f\"ROC AUC Score: {roc_auc}\")"
   ]
  }
 ],
 "metadata": {
  "kernelspec": {
   "display_name": "Python 3 (ipykernel)",
   "language": "python",
   "name": "python3"
  },
  "language_info": {
   "codemirror_mode": {
    "name": "ipython",
    "version": 3
   },
   "file_extension": ".py",
   "mimetype": "text/x-python",
   "name": "python",
   "nbconvert_exporter": "python",
   "pygments_lexer": "ipython3",
   "version": "3.12.0"
  }
 },
 "nbformat": 4,
 "nbformat_minor": 5
}
