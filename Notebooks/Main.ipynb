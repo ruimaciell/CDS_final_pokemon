{
 "cells": [
  {
   "cell_type": "code",
   "execution_count": 41,
   "id": "64da18dd-f7d0-4bb1-b4fc-fd30795f9c39",
   "metadata": {},
   "outputs": [],
   "source": [
    "import sys\n",
    "import pandas as pd\n",
    "from sklearn.metrics import roc_auc_score\n",
    "#Own library\n",
    "import library_hw4\n",
    "from library_hw4.lib4 import load_class as ld\n",
    "from library_hw4.lib4 import prepro_class as pr\n",
    "from library_hw4.lib4 import feature_class as ft\n",
    "from library_hw4.lib4 import model_class as mc"
   ]
  },
  {
   "cell_type": "markdown",
   "id": "5516921e-46b4-4ac6-841f-e87350d466a5",
   "metadata": {},
   "source": [
    "#### Load Train and Test data"
   ]
  },
  {
   "cell_type": "code",
   "execution_count": 2,
   "id": "f447d5eb-0b39-428b-b57e-ab65cd0fe56e",
   "metadata": {},
   "outputs": [],
   "source": [
    "loader = ld.diabetes_loader_jupyter()"
   ]
  },
  {
   "cell_type": "code",
   "execution_count": 3,
   "id": "d201e072-0ea0-4a92-bb2d-cdde7a9b756e",
   "metadata": {},
   "outputs": [],
   "source": [
    "train, test = loader.train_and_test_data()"
   ]
  },
  {
   "cell_type": "markdown",
   "id": "589c8a22-b1f0-4493-af81-8ece991dc005",
   "metadata": {},
   "source": [
    "#### Preprocessing"
   ]
  },
  {
   "cell_type": "code",
   "execution_count": 4,
   "id": "1238afcd-beb7-48c1-aefb-f562b63247dd",
   "metadata": {},
   "outputs": [],
   "source": [
    "# Create missing remover objects for train and test\n",
    "missing_remover = pr.DropMissingValuesGenderEthnicity(train)\n",
    "missing_remover_t = pr.DropMissingValuesGenderEthnicity(test)"
   ]
  },
  {
   "cell_type": "code",
   "execution_count": 5,
   "id": "b844ecef-df9a-48d4-b443-9b3d73b760a8",
   "metadata": {},
   "outputs": [],
   "source": [
    "# Remove missing rows from columns Age, gender, Ethnicity\n",
    "train_clean = missing_remover.process()\n",
    "test_clean = missing_remover_t.process()"
   ]
  },
  {
   "cell_type": "code",
   "execution_count": 6,
   "id": "99fadeb9-510f-4447-8964-20b4dd5651ac",
   "metadata": {},
   "outputs": [],
   "source": [
    "# Create Imputation of missing values object for train and test\n",
    "missing_imputator = pr.FillMissingValuesWithMeanHeightWeight(train_clean)\n",
    "missing_imputator_t = pr.FillMissingValuesWithMeanHeightWeight(test_clean)"
   ]
  },
  {
   "cell_type": "code",
   "execution_count": 7,
   "id": "a162a414-eb25-4ef7-9c12-86f171d69424",
   "metadata": {},
   "outputs": [],
   "source": [
    "# Impute missing values for height and weight\n",
    "train_imp = missing_imputator.process()\n",
    "test_imp = missing_imputator_t.process()"
   ]
  },
  {
   "cell_type": "markdown",
   "id": "d14f9230-92b4-4b01-9f6a-b02580c01396",
   "metadata": {},
   "source": [
    "#### Feature transformation"
   ]
  },
  {
   "cell_type": "code",
   "execution_count": 8,
   "id": "562d15af-eebb-4267-9ccb-9772ccec3170",
   "metadata": {},
   "outputs": [],
   "source": [
    "# One hot enco object\n",
    "feature_trans = ft.One_hot_enc(train_imp)\n",
    "feature_trans_t = ft.One_hot_enc(test_imp)"
   ]
  },
  {
   "cell_type": "code",
   "execution_count": 9,
   "id": "c4654442-8c8e-47f4-8316-138146b353d3",
   "metadata": {},
   "outputs": [
    {
     "name": "stdout",
     "output_type": "stream",
     "text": [
      "object\n",
      "object\n"
     ]
    }
   ],
   "source": [
    "# Create new dummy columns based on icu_admit_source\n",
    "train_new_f = feature_trans.one_hot_enc('icu_admit_source')\n",
    "test_new_f = feature_trans_t.one_hot_enc('icu_admit_source')"
   ]
  },
  {
   "cell_type": "code",
   "execution_count": 10,
   "id": "a18aaf18-ed82-45c4-8bc7-5392c45bd613",
   "metadata": {},
   "outputs": [],
   "source": [
    "# Create object for replacing boolean to 1-0\n",
    "boolean_trans = ft.replace_booleans(train_new_f)\n",
    "boolean_trans_t = ft.replace_booleans(test_new_f)"
   ]
  },
  {
   "cell_type": "code",
   "execution_count": 11,
   "id": "6cb4e795-8abc-489c-888c-c2e6fb9d6b8f",
   "metadata": {},
   "outputs": [],
   "source": [
    "# Transform gender variable to binary\n",
    "final_train = boolean_trans.input_mean_weight('gender')\n",
    "final_test = boolean_trans_t.input_mean_weight('gender')"
   ]
  },
  {
   "cell_type": "markdown",
   "id": "14a258ec-eee8-4297-8812-38bed0304f98",
   "metadata": {},
   "source": [
    "#### Model train and prediction"
   ]
  },
  {
   "cell_type": "code",
   "execution_count": 12,
   "id": "2dd4fad8-cb04-40c0-86bd-15096cca9695",
   "metadata": {},
   "outputs": [],
   "source": [
    "# Feature columns\n",
    "X = [\"age\", \"height\", \"weight\", \"aids\", \"cirrhosis\", \"hepatic_failure\", \n",
    "     \"immunosuppression\", \"leukemia\", \"lymphoma\", \"solid_tumor_with_metastasis\",\"gender\",\n",
    "     'icu_admit_source_Accident & Emergency', 'icu_admit_source_Floor', 'icu_admit_source_Operating Room / Recovery', 'icu_admit_source_Other Hospital', 'icu_admit_source_Other ICU']\n",
    "# Target column\n",
    "Y = \"diabetes_mellitus\""
   ]
  },
  {
   "cell_type": "code",
   "execution_count": 13,
   "id": "dd755e3b-0ade-4dc1-8ad4-661d0bb21bf2",
   "metadata": {},
   "outputs": [],
   "source": [
    "# Create logistic model class\n",
    "logistic_model = mc.CustomModel(final_train,X,Y,'Logistic')"
   ]
  },
  {
   "cell_type": "code",
   "execution_count": 14,
   "id": "bf75ab32-5031-4f92-a552-321f0371b01b",
   "metadata": {},
   "outputs": [],
   "source": [
    "#Train model\n",
    "logistic_model.train()"
   ]
  },
  {
   "cell_type": "code",
   "execution_count": 16,
   "id": "df09d067-8a85-43dd-8904-9c6e40c78bf8",
   "metadata": {},
   "outputs": [],
   "source": [
    "# Predict test values\n",
    "probabilities, predictions = logistic_model.prediction(final_test[X])"
   ]
  },
  {
   "cell_type": "code",
   "execution_count": 37,
   "id": "a7eb17c6-76ed-4143-bdab-51422d9e7ae2",
   "metadata": {},
   "outputs": [],
   "source": [
    "# Add a new column \"predictions\" to final_test dataset\n",
    "final_test['probabilities'] = probabilities.tolist() # Assuming you're interested in the probabilities of the positive class\n",
    "final_test['predictions'] = predictions.tolist()  # Final prediction [0,1]"
   ]
  },
  {
   "cell_type": "code",
   "execution_count": 42,
   "id": "a44327bc-62b6-4d00-990b-e7c6b3de4836",
   "metadata": {},
   "outputs": [
    {
     "name": "stdout",
     "output_type": "stream",
     "text": [
      "ROC AUC Score: 0.5186346482571823\n"
     ]
    }
   ],
   "source": [
    "# Compute the ROC AUC score (substitute )\n",
    "roc_auc = roc_auc_score(final_test['diabetes_mellitus'], final_test['predictions'])\n",
    "print(f\"ROC AUC Score: {roc_auc}\")"
   ]
  }
 ],
 "metadata": {
  "kernelspec": {
   "display_name": "Python 3 (ipykernel)",
   "language": "python",
   "name": "python3"
  },
  "language_info": {
   "codemirror_mode": {
    "name": "ipython",
    "version": 3
   },
   "file_extension": ".py",
   "mimetype": "text/x-python",
   "name": "python",
   "nbconvert_exporter": "python",
   "pygments_lexer": "ipython3",
   "version": "3.9.7"
  }
 },
 "nbformat": 4,
 "nbformat_minor": 5
}
