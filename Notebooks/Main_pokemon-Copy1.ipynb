{
 "cells": [
  {
   "cell_type": "markdown",
   "id": "784fd6f5-2669-4b6a-bd57-55a51cd298d2",
   "metadata": {},
   "source": [
    "#### Import packages and Library"
   ]
  },
  {
   "cell_type": "code",
   "execution_count": 1,
   "id": "64da18dd-f7d0-4bb1-b4fc-fd30795f9c39",
   "metadata": {},
   "outputs": [],
   "source": [
    "import os\n",
    "import numpy as np\n",
    "import pandas as pd\n",
    "from sklearn.metrics import roc_auc_score\n",
    "from sklearn.pipeline import Pipeline\n",
    "#library\n",
    "import library_final\n",
    "from library_final.pokedex import DataLoader as ld\n",
    "from library_final.pokedex import DataPreprocessor as nc\n",
    "from library_final.pokedex import FeatureEng as en\n",
    "from library_final.pokedex import ModelSelector as ml1\n",
    "\n",
    "\n",
    "### Libraries for Database SQL\n",
    "import pandas.io.sql as sqlio\n",
    "import psycopg2\n",
    "import json\n",
    "from sqlalchemy import create_engine"
   ]
  },
  {
   "cell_type": "markdown",
   "id": "5516921e-46b4-4ac6-841f-e87350d466a5",
   "metadata": {},
   "source": [
    "#### Loading Datasets"
   ]
  },
  {
   "cell_type": "markdown",
   "id": "e955f7ae-dd19-454b-aeba-3686489bae01",
   "metadata": {},
   "source": [
    "1. Load datasets\n",
    "  * Pokemon\n",
    "  * Combats\n",
    "  * Pokemon_id_each_team\n",
    "  * Team_combat"
   ]
  },
  {
   "cell_type": "code",
   "execution_count": 2,
   "id": "0f706d11-73f2-4c9b-b53f-95b4a5daf0f4",
   "metadata": {},
   "outputs": [],
   "source": [
    "## Load from Database\n",
    "loader = ld.loader_database()\n",
    "combats, pokemon, pokemon_id_each_team, team_combat, ProcessedData = loader.load_datasets()\n",
    "## Load from repository\n",
    "#loader = ld.loader_jupyter()\n",
    "#combats, pokemon, pokemon_id_each_team, team_combat, Processed = loader.load_datasets()"
   ]
  },
  {
   "cell_type": "markdown",
   "id": "589c8a22-b1f0-4493-af81-8ece991dc005",
   "metadata": {},
   "source": [
    "#### Preprocessing & Feature Transformation"
   ]
  },
  {
   "cell_type": "markdown",
   "id": "c35034d4-f5e2-4989-a714-cb7558e1bd31",
   "metadata": {},
   "source": [
    "#### Numeric\n",
    "1. Calculating Combat metrics\n",
    "  * Victory_Rate\n",
    "  * Total_Battles\n",
    "  * Victory_Counts\n",
    "\n",
    "2. Calculating pokemon skill levels\n",
    "  * offensive_calculator\n",
    "  * defensive_calculator\n",
    "  * speed_power_ratio_calculator\n",
    "\n",
    "#### Categorical\n",
    "2. One hot encoding\n",
    "  * Type 1\n",
    "  * Type 2\n",
    "\n",
    "3. Label Encoding\n",
    "  * Legendary"
   ]
  },
  {
   "cell_type": "code",
   "execution_count": 3,
   "id": "732ea781-a106-4b1e-8bb2-bb99ef71cac3",
   "metadata": {},
   "outputs": [],
   "source": [
    "## Creating new columns\n",
    "combat_cols = nc.PokemonBattleProcessor(pokemon,combats)\n",
    "combat_cols.process_battle_data()\n",
    "pokemon_dt = combat_cols.get_processed_data()"
   ]
  },
  {
   "cell_type": "code",
   "execution_count": 4,
   "id": "cf2cc714-4a64-449d-bae3-6883ae74ace4",
   "metadata": {},
   "outputs": [
    {
     "data": {
      "text/html": [
       "<div>\n",
       "<style scoped>\n",
       "    .dataframe tbody tr th:only-of-type {\n",
       "        vertical-align: middle;\n",
       "    }\n",
       "\n",
       "    .dataframe tbody tr th {\n",
       "        vertical-align: top;\n",
       "    }\n",
       "\n",
       "    .dataframe thead th {\n",
       "        text-align: right;\n",
       "    }\n",
       "</style>\n",
       "<table border=\"1\" class=\"dataframe\">\n",
       "  <thead>\n",
       "    <tr style=\"text-align: right;\">\n",
       "      <th></th>\n",
       "      <th>#</th>\n",
       "      <th>Name</th>\n",
       "      <th>Type 1</th>\n",
       "      <th>Type 2</th>\n",
       "      <th>HP</th>\n",
       "      <th>Attack</th>\n",
       "      <th>Defense</th>\n",
       "      <th>Sp. Atk</th>\n",
       "      <th>Sp. Def</th>\n",
       "      <th>Speed</th>\n",
       "      <th>Generation</th>\n",
       "      <th>Legendary</th>\n",
       "      <th>Victory_Rate</th>\n",
       "      <th>Total_Battles</th>\n",
       "      <th>Victory_Counts</th>\n",
       "    </tr>\n",
       "  </thead>\n",
       "  <tbody>\n",
       "    <tr>\n",
       "      <th>0</th>\n",
       "      <td>1.0</td>\n",
       "      <td>Bulbasaur</td>\n",
       "      <td>Grass</td>\n",
       "      <td>Poison</td>\n",
       "      <td>45.0</td>\n",
       "      <td>49.0</td>\n",
       "      <td>49.0</td>\n",
       "      <td>65.0</td>\n",
       "      <td>65.0</td>\n",
       "      <td>45.0</td>\n",
       "      <td>1.0</td>\n",
       "      <td>False</td>\n",
       "      <td>0.278195</td>\n",
       "      <td>133.0</td>\n",
       "      <td>37.0</td>\n",
       "    </tr>\n",
       "    <tr>\n",
       "      <th>1</th>\n",
       "      <td>2.0</td>\n",
       "      <td>Ivysaur</td>\n",
       "      <td>Grass</td>\n",
       "      <td>Poison</td>\n",
       "      <td>60.0</td>\n",
       "      <td>62.0</td>\n",
       "      <td>63.0</td>\n",
       "      <td>80.0</td>\n",
       "      <td>80.0</td>\n",
       "      <td>60.0</td>\n",
       "      <td>1.0</td>\n",
       "      <td>False</td>\n",
       "      <td>0.380165</td>\n",
       "      <td>121.0</td>\n",
       "      <td>46.0</td>\n",
       "    </tr>\n",
       "    <tr>\n",
       "      <th>2</th>\n",
       "      <td>3.0</td>\n",
       "      <td>Venusaur</td>\n",
       "      <td>Grass</td>\n",
       "      <td>Poison</td>\n",
       "      <td>80.0</td>\n",
       "      <td>82.0</td>\n",
       "      <td>83.0</td>\n",
       "      <td>100.0</td>\n",
       "      <td>100.0</td>\n",
       "      <td>80.0</td>\n",
       "      <td>1.0</td>\n",
       "      <td>False</td>\n",
       "      <td>0.674242</td>\n",
       "      <td>132.0</td>\n",
       "      <td>89.0</td>\n",
       "    </tr>\n",
       "    <tr>\n",
       "      <th>3</th>\n",
       "      <td>4.0</td>\n",
       "      <td>Mega Venusaur</td>\n",
       "      <td>Grass</td>\n",
       "      <td>Poison</td>\n",
       "      <td>80.0</td>\n",
       "      <td>100.0</td>\n",
       "      <td>123.0</td>\n",
       "      <td>122.0</td>\n",
       "      <td>120.0</td>\n",
       "      <td>80.0</td>\n",
       "      <td>1.0</td>\n",
       "      <td>False</td>\n",
       "      <td>0.560000</td>\n",
       "      <td>125.0</td>\n",
       "      <td>70.0</td>\n",
       "    </tr>\n",
       "    <tr>\n",
       "      <th>4</th>\n",
       "      <td>5.0</td>\n",
       "      <td>Charmander</td>\n",
       "      <td>Fire</td>\n",
       "      <td>None</td>\n",
       "      <td>39.0</td>\n",
       "      <td>52.0</td>\n",
       "      <td>43.0</td>\n",
       "      <td>60.0</td>\n",
       "      <td>50.0</td>\n",
       "      <td>65.0</td>\n",
       "      <td>1.0</td>\n",
       "      <td>False</td>\n",
       "      <td>0.491071</td>\n",
       "      <td>112.0</td>\n",
       "      <td>55.0</td>\n",
       "    </tr>\n",
       "    <tr>\n",
       "      <th>...</th>\n",
       "      <td>...</td>\n",
       "      <td>...</td>\n",
       "      <td>...</td>\n",
       "      <td>...</td>\n",
       "      <td>...</td>\n",
       "      <td>...</td>\n",
       "      <td>...</td>\n",
       "      <td>...</td>\n",
       "      <td>...</td>\n",
       "      <td>...</td>\n",
       "      <td>...</td>\n",
       "      <td>...</td>\n",
       "      <td>...</td>\n",
       "      <td>...</td>\n",
       "      <td>...</td>\n",
       "    </tr>\n",
       "    <tr>\n",
       "      <th>795</th>\n",
       "      <td>796.0</td>\n",
       "      <td>Diancie</td>\n",
       "      <td>Rock</td>\n",
       "      <td>Fairy</td>\n",
       "      <td>50.0</td>\n",
       "      <td>100.0</td>\n",
       "      <td>150.0</td>\n",
       "      <td>100.0</td>\n",
       "      <td>150.0</td>\n",
       "      <td>50.0</td>\n",
       "      <td>6.0</td>\n",
       "      <td>True</td>\n",
       "      <td>0.371429</td>\n",
       "      <td>105.0</td>\n",
       "      <td>39.0</td>\n",
       "    </tr>\n",
       "    <tr>\n",
       "      <th>796</th>\n",
       "      <td>797.0</td>\n",
       "      <td>Mega Diancie</td>\n",
       "      <td>Rock</td>\n",
       "      <td>Fairy</td>\n",
       "      <td>50.0</td>\n",
       "      <td>160.0</td>\n",
       "      <td>110.0</td>\n",
       "      <td>160.0</td>\n",
       "      <td>110.0</td>\n",
       "      <td>110.0</td>\n",
       "      <td>6.0</td>\n",
       "      <td>True</td>\n",
       "      <td>0.885496</td>\n",
       "      <td>131.0</td>\n",
       "      <td>116.0</td>\n",
       "    </tr>\n",
       "    <tr>\n",
       "      <th>797</th>\n",
       "      <td>798.0</td>\n",
       "      <td>Hoopa Confined</td>\n",
       "      <td>Psychic</td>\n",
       "      <td>Ghost</td>\n",
       "      <td>80.0</td>\n",
       "      <td>110.0</td>\n",
       "      <td>60.0</td>\n",
       "      <td>150.0</td>\n",
       "      <td>130.0</td>\n",
       "      <td>70.0</td>\n",
       "      <td>6.0</td>\n",
       "      <td>True</td>\n",
       "      <td>0.504202</td>\n",
       "      <td>119.0</td>\n",
       "      <td>60.0</td>\n",
       "    </tr>\n",
       "    <tr>\n",
       "      <th>798</th>\n",
       "      <td>799.0</td>\n",
       "      <td>Hoopa Unbound</td>\n",
       "      <td>Psychic</td>\n",
       "      <td>Dark</td>\n",
       "      <td>80.0</td>\n",
       "      <td>160.0</td>\n",
       "      <td>60.0</td>\n",
       "      <td>170.0</td>\n",
       "      <td>130.0</td>\n",
       "      <td>80.0</td>\n",
       "      <td>6.0</td>\n",
       "      <td>True</td>\n",
       "      <td>0.618056</td>\n",
       "      <td>144.0</td>\n",
       "      <td>89.0</td>\n",
       "    </tr>\n",
       "    <tr>\n",
       "      <th>799</th>\n",
       "      <td>800.0</td>\n",
       "      <td>Volcanion</td>\n",
       "      <td>Fire</td>\n",
       "      <td>Water</td>\n",
       "      <td>80.0</td>\n",
       "      <td>110.0</td>\n",
       "      <td>120.0</td>\n",
       "      <td>130.0</td>\n",
       "      <td>90.0</td>\n",
       "      <td>70.0</td>\n",
       "      <td>6.0</td>\n",
       "      <td>True</td>\n",
       "      <td>0.619835</td>\n",
       "      <td>121.0</td>\n",
       "      <td>75.0</td>\n",
       "    </tr>\n",
       "  </tbody>\n",
       "</table>\n",
       "<p>800 rows × 15 columns</p>\n",
       "</div>"
      ],
      "text/plain": [
       "         #            Name   Type 1  Type 2    HP  Attack  Defense  Sp. Atk  \\\n",
       "0      1.0       Bulbasaur    Grass  Poison  45.0    49.0     49.0     65.0   \n",
       "1      2.0         Ivysaur    Grass  Poison  60.0    62.0     63.0     80.0   \n",
       "2      3.0        Venusaur    Grass  Poison  80.0    82.0     83.0    100.0   \n",
       "3      4.0   Mega Venusaur    Grass  Poison  80.0   100.0    123.0    122.0   \n",
       "4      5.0      Charmander     Fire    None  39.0    52.0     43.0     60.0   \n",
       "..     ...             ...      ...     ...   ...     ...      ...      ...   \n",
       "795  796.0         Diancie     Rock   Fairy  50.0   100.0    150.0    100.0   \n",
       "796  797.0    Mega Diancie     Rock   Fairy  50.0   160.0    110.0    160.0   \n",
       "797  798.0  Hoopa Confined  Psychic   Ghost  80.0   110.0     60.0    150.0   \n",
       "798  799.0   Hoopa Unbound  Psychic    Dark  80.0   160.0     60.0    170.0   \n",
       "799  800.0       Volcanion     Fire   Water  80.0   110.0    120.0    130.0   \n",
       "\n",
       "     Sp. Def  Speed  Generation  Legendary  Victory_Rate  Total_Battles  \\\n",
       "0       65.0   45.0         1.0      False      0.278195          133.0   \n",
       "1       80.0   60.0         1.0      False      0.380165          121.0   \n",
       "2      100.0   80.0         1.0      False      0.674242          132.0   \n",
       "3      120.0   80.0         1.0      False      0.560000          125.0   \n",
       "4       50.0   65.0         1.0      False      0.491071          112.0   \n",
       "..       ...    ...         ...        ...           ...            ...   \n",
       "795    150.0   50.0         6.0       True      0.371429          105.0   \n",
       "796    110.0  110.0         6.0       True      0.885496          131.0   \n",
       "797    130.0   70.0         6.0       True      0.504202          119.0   \n",
       "798    130.0   80.0         6.0       True      0.618056          144.0   \n",
       "799     90.0   70.0         6.0       True      0.619835          121.0   \n",
       "\n",
       "     Victory_Counts  \n",
       "0              37.0  \n",
       "1              46.0  \n",
       "2              89.0  \n",
       "3              70.0  \n",
       "4              55.0  \n",
       "..              ...  \n",
       "795            39.0  \n",
       "796           116.0  \n",
       "797            60.0  \n",
       "798            89.0  \n",
       "799            75.0  \n",
       "\n",
       "[800 rows x 15 columns]"
      ]
     },
     "execution_count": 4,
     "metadata": {},
     "output_type": "execute_result"
    }
   ],
   "source": [
    "pokemon_dt"
   ]
  },
  {
   "cell_type": "code",
   "execution_count": 5,
   "id": "cb2eac17-b761-482f-aecf-263e418b43dc",
   "metadata": {},
   "outputs": [],
   "source": [
    "#Setting Pokemon Calculator Class\n",
    "offensive_calculator = nc.OffensivePowerCalculator(pokemon_dt)\n",
    "defensive_calculator = nc.DefensivePowerCalculator(pokemon_dt)\n",
    "speed_power_ratio_calculator = nc.SpeedToPowerRatioCalculator(pokemon_dt)\n",
    "\n",
    "#Calculating Pokemon's OffensivePower\n",
    "offensive_calculator.calculate()\n",
    "#Calculating Pokemon's DefensivePower\n",
    "defensive_calculator.calculate()\n",
    "#Calculating Pokemon's SpeedToPower\n",
    "speed_power_ratio_calculator.calculate()"
   ]
  },
  {
   "cell_type": "code",
   "execution_count": 6,
   "id": "cda50d1f-548b-438e-b1c7-2f2034fa10be",
   "metadata": {
    "scrolled": true
   },
   "outputs": [
    {
     "data": {
      "text/plain": [
       "Index(['#', 'Name', 'Type 1', 'Type 2', 'HP', 'Attack', 'Defense', 'Sp. Atk',\n",
       "       'Sp. Def', 'Speed', 'Generation', 'Legendary', 'Victory_Rate',\n",
       "       'Total_Battles', 'Victory_Counts', 'Offensive_Power', 'Defensive_Power',\n",
       "       'Speed_to_Power_Ratio'],\n",
       "      dtype='object')"
      ]
     },
     "execution_count": 6,
     "metadata": {},
     "output_type": "execute_result"
    }
   ],
   "source": [
    "pokemon_dt.columns"
   ]
  },
  {
   "cell_type": "code",
   "execution_count": 7,
   "id": "f3729162-53d5-4554-94e0-b5d9892e1d5e",
   "metadata": {},
   "outputs": [],
   "source": [
    "#Checkpoint - Creating a Copy before starting one hot encoding\n",
    "type_encoder = en.PokemonTypeEncoder(pokemon_dt)\n",
    "#Create Dummies for Type 1 category variable\n",
    "type_encoder.one_hot_encode_type1()\n",
    "# Create new column only if the type doesn't exist\n",
    "type_encoder.encode_type2()\n",
    "# Return a new DataFrame with the update pokemon dataset + dummies\n",
    "df = type_encoder.get_updated_dataframe()"
   ]
  },
  {
   "cell_type": "code",
   "execution_count": 8,
   "id": "23bad866-e3d5-4606-8d92-c3a658070e63",
   "metadata": {},
   "outputs": [],
   "source": [
    "#Label Encode Legendary Column\n",
    "legend_encoder = en.Pokemon_Dummy_Legendary_Encoder(df)\n",
    "legend_encoder.encode_legendary()"
   ]
  },
  {
   "cell_type": "code",
   "execution_count": 9,
   "id": "302bdf0f-c3d8-4a4a-a96f-4afac145839e",
   "metadata": {},
   "outputs": [
    {
     "data": {
      "text/html": [
       "<div>\n",
       "<style scoped>\n",
       "    .dataframe tbody tr th:only-of-type {\n",
       "        vertical-align: middle;\n",
       "    }\n",
       "\n",
       "    .dataframe tbody tr th {\n",
       "        vertical-align: top;\n",
       "    }\n",
       "\n",
       "    .dataframe thead th {\n",
       "        text-align: right;\n",
       "    }\n",
       "</style>\n",
       "<table border=\"1\" class=\"dataframe\">\n",
       "  <thead>\n",
       "    <tr style=\"text-align: right;\">\n",
       "      <th></th>\n",
       "      <th>Speed</th>\n",
       "      <th>Generation</th>\n",
       "      <th>Legendary</th>\n",
       "      <th>Victory_Rate</th>\n",
       "      <th>Total_Battles</th>\n",
       "      <th>Victory_Counts</th>\n",
       "      <th>Offensive_Power</th>\n",
       "      <th>Defensive_Power</th>\n",
       "      <th>Speed_to_Power_Ratio</th>\n",
       "      <th>Bug</th>\n",
       "      <th>...</th>\n",
       "      <th>Ghost</th>\n",
       "      <th>Grass</th>\n",
       "      <th>Ground</th>\n",
       "      <th>Ice</th>\n",
       "      <th>Normal</th>\n",
       "      <th>Poison</th>\n",
       "      <th>Psychic</th>\n",
       "      <th>Rock</th>\n",
       "      <th>Steel</th>\n",
       "      <th>Water</th>\n",
       "    </tr>\n",
       "  </thead>\n",
       "  <tbody>\n",
       "    <tr>\n",
       "      <th>0</th>\n",
       "      <td>45.0</td>\n",
       "      <td>1.0</td>\n",
       "      <td>0</td>\n",
       "      <td>0.278195</td>\n",
       "      <td>133.0</td>\n",
       "      <td>37.0</td>\n",
       "      <td>0.248473</td>\n",
       "      <td>0.189074</td>\n",
       "      <td>0.425051</td>\n",
       "      <td>0</td>\n",
       "      <td>...</td>\n",
       "      <td>0</td>\n",
       "      <td>1</td>\n",
       "      <td>0</td>\n",
       "      <td>0</td>\n",
       "      <td>0</td>\n",
       "      <td>1</td>\n",
       "      <td>0</td>\n",
       "      <td>0</td>\n",
       "      <td>0</td>\n",
       "      <td>0</td>\n",
       "    </tr>\n",
       "    <tr>\n",
       "      <th>1</th>\n",
       "      <td>60.0</td>\n",
       "      <td>1.0</td>\n",
       "      <td>0</td>\n",
       "      <td>0.380165</td>\n",
       "      <td>121.0</td>\n",
       "      <td>46.0</td>\n",
       "      <td>0.329279</td>\n",
       "      <td>0.252015</td>\n",
       "      <td>0.455788</td>\n",
       "      <td>0</td>\n",
       "      <td>...</td>\n",
       "      <td>0</td>\n",
       "      <td>1</td>\n",
       "      <td>0</td>\n",
       "      <td>0</td>\n",
       "      <td>0</td>\n",
       "      <td>1</td>\n",
       "      <td>0</td>\n",
       "      <td>0</td>\n",
       "      <td>0</td>\n",
       "      <td>0</td>\n",
       "    </tr>\n",
       "    <tr>\n",
       "      <th>2</th>\n",
       "      <td>80.0</td>\n",
       "      <td>1.0</td>\n",
       "      <td>0</td>\n",
       "      <td>0.674242</td>\n",
       "      <td>132.0</td>\n",
       "      <td>89.0</td>\n",
       "      <td>0.440622</td>\n",
       "      <td>0.337417</td>\n",
       "      <td>0.472856</td>\n",
       "      <td>0</td>\n",
       "      <td>...</td>\n",
       "      <td>0</td>\n",
       "      <td>1</td>\n",
       "      <td>0</td>\n",
       "      <td>0</td>\n",
       "      <td>0</td>\n",
       "      <td>1</td>\n",
       "      <td>0</td>\n",
       "      <td>0</td>\n",
       "      <td>0</td>\n",
       "      <td>0</td>\n",
       "    </tr>\n",
       "    <tr>\n",
       "      <th>3</th>\n",
       "      <td>80.0</td>\n",
       "      <td>1.0</td>\n",
       "      <td>0</td>\n",
       "      <td>0.560000</td>\n",
       "      <td>125.0</td>\n",
       "      <td>70.0</td>\n",
       "      <td>0.494838</td>\n",
       "      <td>0.405671</td>\n",
       "      <td>0.381560</td>\n",
       "      <td>0</td>\n",
       "      <td>...</td>\n",
       "      <td>0</td>\n",
       "      <td>1</td>\n",
       "      <td>0</td>\n",
       "      <td>0</td>\n",
       "      <td>0</td>\n",
       "      <td>1</td>\n",
       "      <td>0</td>\n",
       "      <td>0</td>\n",
       "      <td>0</td>\n",
       "      <td>0</td>\n",
       "    </tr>\n",
       "    <tr>\n",
       "      <th>4</th>\n",
       "      <td>65.0</td>\n",
       "      <td>1.0</td>\n",
       "      <td>0</td>\n",
       "      <td>0.491071</td>\n",
       "      <td>112.0</td>\n",
       "      <td>55.0</td>\n",
       "      <td>0.302877</td>\n",
       "      <td>0.152740</td>\n",
       "      <td>0.650838</td>\n",
       "      <td>0</td>\n",
       "      <td>...</td>\n",
       "      <td>0</td>\n",
       "      <td>0</td>\n",
       "      <td>0</td>\n",
       "      <td>0</td>\n",
       "      <td>0</td>\n",
       "      <td>0</td>\n",
       "      <td>0</td>\n",
       "      <td>0</td>\n",
       "      <td>0</td>\n",
       "      <td>0</td>\n",
       "    </tr>\n",
       "  </tbody>\n",
       "</table>\n",
       "<p>5 rows × 27 columns</p>\n",
       "</div>"
      ],
      "text/plain": [
       "   Speed  Generation  Legendary  Victory_Rate  Total_Battles  Victory_Counts  \\\n",
       "0   45.0         1.0          0      0.278195          133.0            37.0   \n",
       "1   60.0         1.0          0      0.380165          121.0            46.0   \n",
       "2   80.0         1.0          0      0.674242          132.0            89.0   \n",
       "3   80.0         1.0          0      0.560000          125.0            70.0   \n",
       "4   65.0         1.0          0      0.491071          112.0            55.0   \n",
       "\n",
       "   Offensive_Power  Defensive_Power  Speed_to_Power_Ratio  Bug  ...  Ghost  \\\n",
       "0         0.248473         0.189074              0.425051    0  ...      0   \n",
       "1         0.329279         0.252015              0.455788    0  ...      0   \n",
       "2         0.440622         0.337417              0.472856    0  ...      0   \n",
       "3         0.494838         0.405671              0.381560    0  ...      0   \n",
       "4         0.302877         0.152740              0.650838    0  ...      0   \n",
       "\n",
       "   Grass  Ground  Ice  Normal  Poison  Psychic  Rock  Steel  Water  \n",
       "0      1       0    0       0       1        0     0      0      0  \n",
       "1      1       0    0       0       1        0     0      0      0  \n",
       "2      1       0    0       0       1        0     0      0      0  \n",
       "3      1       0    0       0       1        0     0      0      0  \n",
       "4      0       0    0       0       0        0     0      0      0  \n",
       "\n",
       "[5 rows x 27 columns]"
      ]
     },
     "execution_count": 9,
     "metadata": {},
     "output_type": "execute_result"
    }
   ],
   "source": [
    "df.iloc[:,9:].head(5)"
   ]
  },
  {
   "cell_type": "markdown",
   "id": "5ac865e6-79b1-4f37-a905-92aceb36e644",
   "metadata": {},
   "source": [
    "### Model Selection"
   ]
  },
  {
   "cell_type": "markdown",
   "id": "86bcbf4e-a9fb-4cb7-a537-8524a4dcdcb6",
   "metadata": {},
   "source": [
    "1. Split Train and Test\n",
    "2. Select Model\n",
    "3. Train Model and Make Predictions\n",
    "4. Model Evaluation\n",
    "5. K_fold_cross_validation"
   ]
  },
  {
   "cell_type": "code",
   "execution_count": 10,
   "id": "6e0afa67-75fc-497f-8398-dfd725e7dade",
   "metadata": {},
   "outputs": [],
   "source": [
    "# Dividing Dataset into Train and Test\n",
    "Data_split = ml1.TrainTestDivider(df)\n",
    "X_train, X_test, y_train, y_test = Data_split.train_test()"
   ]
  },
  {
   "cell_type": "markdown",
   "id": "66ac6acb-50d9-4b3a-9d94-9203350bd374",
   "metadata": {},
   "source": [
    "### Linear Regression\n",
    "<h5> Here, we call the simple result method that fits, trains, predicts and shows us MSE and Rsquared from it; for any model"
   ]
  },
  {
   "cell_type": "code",
   "execution_count": 11,
   "id": "d4637309-6cac-451e-9ac7-0ba4de1f3abc",
   "metadata": {},
   "outputs": [
    {
     "name": "stdout",
     "output_type": "stream",
     "text": [
      "Model trained successfully.\n",
      "Mean Squared Error: 0.009378679186597561 and R-squared: 0.8553790975705335\n"
     ]
    }
   ],
   "source": [
    "linear_reg_model = ml1.LinearRegressionAnalyzer()\n",
    "linear_reg_model.set_data(X_train, y_train, X_test, y_test)\n",
    "linear_reg_model.simple_result()"
   ]
  },
  {
   "cell_type": "markdown",
   "id": "5a71abaa",
   "metadata": {},
   "source": [
    "We can also plot the predictions, and fitted line, versus the actual values."
   ]
  },
  {
   "cell_type": "code",
   "execution_count": 12,
   "id": "dbcefc54-fc69-4cc2-8605-82414517d9bd",
   "metadata": {},
   "outputs": [
    {
     "data": {
      "image/png": "[encoded data removed]",
      "text/plain": [
       "<Figure size 800x600 with 1 Axes>"
      ]
     },
     "metadata": {},
     "output_type": "display_data"
    }
   ],
   "source": [
    "linear_reg_model.plot_actual_vs_predicted()"
   ]
  },
  {
   "cell_type": "markdown",
   "id": "e5e65067",
   "metadata": {},
   "source": [
    "Another feature, cross validation"
   ]
  },
  {
   "cell_type": "code",
   "execution_count": 13,
   "id": "810451e1-eb58-477b-adcd-d40b23b8c1fa",
   "metadata": {},
   "outputs": [
    {
     "name": "stdout",
     "output_type": "stream",
     "text": [
      "Cross-Validation r_squared Scores: [0.79537089 0.81623163 0.8765056  0.8580887  0.82667499]\n",
      "Mean Cross-Validation r_squared: 0.8345743623056245\n",
      "Cross-Validation mse Scores: [0.01197154 0.01369227 0.00807676 0.01005418 0.01332962]\n",
      "Mean Cross-Validation mse: 0.011424873643336645\n"
     ]
    }
   ],
   "source": [
    "linreg_cv_results = linear_reg_model.k_fold_cross_validation()"
   ]
  },
  {
   "cell_type": "markdown",
   "id": "f63d18f8-0a71-4a06-9f81-b306488863d4",
   "metadata": {},
   "source": [
    "#### Lasso Model simple."
   ]
  },
  {
   "cell_type": "code",
   "execution_count": 15,
   "id": "293d694f-1a94-4ca4-82b0-4774fa2c6169",
   "metadata": {},
   "outputs": [
    {
     "name": "stdout",
     "output_type": "stream",
     "text": [
      "Model trained successfully.\n",
      "Mean Squared Error: 0.009697404859753744 and R-squared: 0.8504642909584088\n"
     ]
    }
   ],
   "source": [
    "# Step 1: Create an instance of LassoModel\n",
    "lasso_model = ml1.LassoModel(np.linspace(0.001, 1, num=30))  \n",
    "\n",
    "# Step 2: Run the Lasso model without cross-validation\n",
    "lasso_model.set_data(X_train, y_train, X_test, y_test)\n",
    "lasso_model.simple_result()"
   ]
  },
  {
   "cell_type": "markdown",
   "id": "90ff422a",
   "metadata": {},
   "source": [
    "#### Doing cross validation"
   ]
  },
  {
   "cell_type": "code",
   "execution_count": 16,
   "id": "bb2143e3",
   "metadata": {},
   "outputs": [
    {
     "ename": "NameError",
     "evalue": "name 'df_X' is not defined",
     "output_type": "error",
     "traceback": [
      "\u001b[0;31m---------------------------------------------------------------------------\u001b[0m",
      "\u001b[0;31mNameError\u001b[0m                                 Traceback (most recent call last)",
      "Cell \u001b[0;32mIn[16], line 1\u001b[0m\n\u001b[0;32m----> 1\u001b[0m lasso_model\u001b[38;5;241m.\u001b[39mrun_model_cv(\u001b[43mdf_X\u001b[49m, df_y, n_splits\u001b[38;5;241m=\u001b[39m\u001b[38;5;241m5\u001b[39m) \n",
      "\u001b[0;31mNameError\u001b[0m: name 'df_X' is not defined"
     ]
    }
   ],
   "source": [
    "lasso_model.run_model_cv(df_X, df_y, n_splits=5) "
   ]
  },
  {
   "cell_type": "markdown",
   "id": "e1089f36-95d6-434e-b1dc-94280de0b550",
   "metadata": {},
   "source": [
    "#### Ridge Model simple"
   ]
  },
  {
   "cell_type": "code",
   "execution_count": 17,
   "id": "2d2d0713-f267-48ed-92f6-bbd916d0e86a",
   "metadata": {},
   "outputs": [
    {
     "name": "stdout",
     "output_type": "stream",
     "text": [
      "Model trained successfully.\n",
      "Mean Squared Error: 0.009378698262222273 and R-squared: 0.855378803421005\n"
     ]
    }
   ],
   "source": [
    "# Step 1: Create an instance of RidgeModel\n",
    "ridge_model = ml1.RidgeModel(np.linspace(0.01, 100, num=30))  \n",
    "\n",
    "# Step 2: Run the Ridge model without cross-validation\n",
    "ridge_model.set_data(X_train, y_train, X_test, y_test)\n",
    "ridge_model.simple_result()"
   ]
  },
  {
   "cell_type": "code",
   "execution_count": 18,
   "id": "391fc2b9-da3c-4fa9-9c86-423a5ad039eb",
   "metadata": {},
   "outputs": [
    {
     "ename": "NameError",
     "evalue": "name 'df_X' is not defined",
     "output_type": "error",
     "traceback": [
      "\u001b[0;31m---------------------------------------------------------------------------\u001b[0m",
      "\u001b[0;31mNameError\u001b[0m                                 Traceback (most recent call last)",
      "Cell \u001b[0;32mIn[18], line 1\u001b[0m\n\u001b[0;32m----> 1\u001b[0m ridge_model\u001b[38;5;241m.\u001b[39mrun_model_cv(\u001b[43mdf_X\u001b[49m, df_y, n_splits\u001b[38;5;241m=\u001b[39m\u001b[38;5;241m5\u001b[39m) \n",
      "\u001b[0;31mNameError\u001b[0m: name 'df_X' is not defined"
     ]
    }
   ],
   "source": [
    "ridge_model.run_model_cv(df_X, df_y, n_splits=5) "
   ]
  },
  {
   "cell_type": "markdown",
   "id": "59b02829",
   "metadata": {},
   "source": [
    "<h3> Random Forest"
   ]
  },
  {
   "cell_type": "code",
   "execution_count": 19,
   "id": "9c55e89b",
   "metadata": {},
   "outputs": [
    {
     "name": "stdout",
     "output_type": "stream",
     "text": [
      "Model trained successfully.\n",
      "Mean Squared Error: 0.009085907226757648 and R-squared: 0.8598936933036511\n"
     ]
    }
   ],
   "source": [
    "rf_model = ml1.RandomForestModel(n_estimators=100, max_depth=None, random_state=42)\n",
    "rf_model.set_data(X_train, y_train, X_test, y_test)\n",
    "rf_model.simple_result()"
   ]
  },
  {
   "cell_type": "markdown",
   "id": "4dbcbc08",
   "metadata": {},
   "source": [
    "<h4>With cross validation"
   ]
  },
  {
   "cell_type": "code",
   "execution_count": 20,
   "id": "8df688f6",
   "metadata": {},
   "outputs": [
    {
     "name": "stdout",
     "output_type": "stream",
     "text": [
      "Cross-Validation r_squared Scores: [0.87621468 0.84371636 0.88294479 0.89382841 0.84045991]\n",
      "Mean Cross-Validation r_squared: 0.8674328292402226\n",
      "Cross-Validation mse Scores: [0.00724189 0.01164443 0.00765562 0.00752208 0.01226949]\n",
      "Mean Cross-Validation mse: 0.009266701461648654\n"
     ]
    },
    {
     "data": {
      "image/png": "[encoded data removed]",
      "text/plain": [
       "<Figure size 1000x600 with 1 Axes>"
      ]
     },
     "metadata": {},
     "output_type": "display_data"
    }
   ],
   "source": [
    "rf_cv_results = rf_model.k_fold_cross_validation()\n",
    "feature_names = X_train.columns  \n",
    "rf_model.plot_feature_importances(feature_names)"
   ]
  }
 ],
 "metadata": {
  "kernelspec": {
   "display_name": "Python 3 (ipykernel)",
   "language": "python",
   "name": "python3"
  },
  "language_info": {
   "codemirror_mode": {
    "name": "ipython",
    "version": 3
   },
   "file_extension": ".py",
   "mimetype": "text/x-python",
   "name": "python",
   "nbconvert_exporter": "python",
   "pygments_lexer": "ipython3",
   "version": "3.12.0"
  }
 },
 "nbformat": 4,
 "nbformat_minor": 5
}
